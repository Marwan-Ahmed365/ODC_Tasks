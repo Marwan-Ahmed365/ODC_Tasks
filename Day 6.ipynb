{
 "cells": [
  {
   "cell_type": "markdown",
   "id": "2e529fe2",
   "metadata": {},
   "source": [
    "# Task 1\n",
    "### How to Block a Website on Your Computer"
   ]
  },
  {
   "cell_type": "markdown",
   "id": "b7ebd7d5",
   "metadata": {},
   "source": [
    "1- Type in notepad. This will search your computer for the Notepad app.\n",
    "2- Open Notepad in administrator mode. \n",
    "3- Click File.\n",
    "4- Click Open….\n",
    "5- Navigate to the \"etc\" folder. To do so:\n",
    "6- Click the \"Text Documents (*.txt)\" box. \n",
    "7- Click All Files. \n",
    "8- Remove security from the \"hosts\" file. Find the \"hosts\" file in the main Notepad window, then do the following:\n",
    "    Right-click the \"hosts\" file.\n",
    "    Click Properties in the drop-down menu.\n",
    "    Click the Security tab.\n",
    "    Click Edit.\n",
    "    Check the \"Full Control\" box.\n",
    "    Click OK, then click Yes when prompted.\n",
    "    Click OK.\n",
    "9- Select the \"hosts\" file. Click the \"hosts\" file to do so and Open the \"hosts\"\n",
    "10- Create a new line at the bottom of the document.\n",
    "11- Add websites to the block list. To block a website in your computer's browsers, do the following:\n",
    "    Type in 127.0.0.1 and press Tab ↹.\n",
    "    Type in a website's address without the \"www\" section (e.g., \"facebook.com\", \"twitter.com\").\n",
    "    Press ↵ Enter to start a new line, then repeat the above two steps with other addresses you want to block.\n",
    "12- Block Google Chrome sites using this method. While you can block sites in most browsers using the above step, Google Chrome     is slightly different: if you're blocking sites on Google Chrome, you'll need to place a space and then the \"www.               [site].com\" version of the website's address after the \"[site].com\" version.\n",
    "    To block Facebook, for example, you would type in 127.0.0.1 facebook.com www.facebook.com.\n",
    "    Adding the \"http://\" or \"https://\" part of the address as well (e.g., 127.0.0.1 facebook.com https://www.facebook.com can       improve the chances of the site being blocked.\n",
    "13- Replace the existing \"hosts\" file with the edited one.\n",
    "14- Flush your computer's DNS cache. You'll use Command Prompt to perform this action.\n",
    "15- Restart all browsers.\n",
    "        \n"
   ]
  },
  {
   "cell_type": "markdown",
   "id": "5f006e10",
   "metadata": {},
   "source": [
    "# Task 2:\n",
    "### Different Types of Inheritance\n"
   ]
  },
  {
   "cell_type": "markdown",
   "id": "a3297517",
   "metadata": {},
   "source": [
    "1- Single inheritance: In this inheritance, a derived class is created from a single base class.\n",
    "\n",
    "2- Multi-level inheritance: In this inheritance, a derived class is created from another derived class.\n",
    "\n",
    "3- Multiple inheritance: In this inheritance, a derived class is created from more than one base class. This inheritance is not supported by .NET Languages like C#, F#, etc., and Java Language.\n",
    "\n",
    "4- Multipath inheritance: In this inheritance, a derived class is created from other derived classes and the same base class of other derived classes. This inheritance is not supported by .NET Languages like C#, F#, etc.\n",
    "\n",
    "5- Hierarchical Inheritance: In this inheritance, more than one derived class is created from a single base class and further child classes act as parent classes for more than one child class.\n",
    "\n",
    "6- Hybrid Inheritance: This is a combination of more than one inheritance. Hence, it may be a combination of Multilevel and Multiple inheritance or Hierarchical and Multilevel inheritance Hierarchical and Multipath inheritance, or Hierarchical, Multilevel and Multiple inheritances.\n",
    "\n",
    "7- delegation inheritance: Delegation is an alternative to inheritance for reusing code among multiple classes. Inheritance uses the IS-A relationship for re-use; delegation uses the HAS-A reference relationship to do the same. Inheritance and delegation have the same kind of relationship that, say,"
   ]
  },
  {
   "cell_type": "markdown",
   "id": "13ee2453",
   "metadata": {},
   "source": [
    "# Task 3:\n",
    "### How to pass a function as an argument? (python)"
   ]
  },
  {
   "cell_type": "code",
   "execution_count": 5,
   "id": "116468e2",
   "metadata": {},
   "outputs": [
    {
     "name": "stdout",
     "output_type": "stream",
     "text": [
      "welcome to askpython!!\n",
      "WELCOME TO ASKPYTHON!!\n"
     ]
    }
   ],
   "source": [
    "# Define higher order function\n",
    "def fun(foo):\n",
    "    result = foo('Welcome To AskPython!!')\n",
    "    return result\n",
    " \n",
    "# Define function-1\n",
    "def fun1(str):\n",
    "    return str.lower()\n",
    " \n",
    "# Define function-2\n",
    "def fun2(str):\n",
    "    return str.upper()\n",
    " \n",
    "# Pass funtion-1 as an argument\n",
    "# to fun() function\n",
    "str1 = fun(fun1)\n",
    "print(str1)\n",
    " \n",
    "# Pass funtion-2 as an argument\n",
    "# to fun() function\n",
    "str2 = fun(fun2)\n",
    "print(str2)"
   ]
  },
  {
   "cell_type": "markdown",
   "id": "16a80b43",
   "metadata": {},
   "source": [
    "# Task 3\n",
    "### How to pass a function as an argument? (C++)"
   ]
  },
  {
   "cell_type": "markdown",
   "id": "6613fe0b",
   "metadata": {},
   "source": [
    "#include <bits/stdc++.h> \n",
    "using namespace std;\n",
    "\n",
    "int add(int x, int y){return x+y;}\n",
    "int sub(int x, int y){return x-y;}\n",
    "int operation (int x, int y,int (*function)(int,int)){return function(x,y);}\n",
    "int operation2(int x, int y,std::function<int(int, int)> function){return function(x,y);}\n",
    "\n",
    "int main()\n",
    "{\n",
    "    std::cout <<\"Values 1 & 3. Pointer function: Add:\"<<operation (1,3,&add)<<\" Sub:\"<<operation (1,3,&sub) << std::endl;\n",
    "    std::cout <<\"Values 1 & 3. std::function   : Add:\"<<operation2(1,3,&add)<<\" Sub:\"<<operation2(1,3,&sub) << std::endl;"
   ]
  },
  {
   "cell_type": "markdown",
   "id": "7fec6b81",
   "metadata": {},
   "source": [
    "# Task 4\n",
    "### What is still dependent on Von Neumann Architecture and why?\n"
   ]
  },
  {
   "cell_type": "markdown",
   "id": "9906611e",
   "metadata": {},
   "source": [
    "1 -Motorola 68k and PowerPC NXP \n",
    "2- SuperH are\n",
    "\n",
    "\n",
    "\n",
    "That’s not correct. Microprocessors (with memory other than cache outside the chip), on the whole, use von Neumann architecture. i.e. program and data are located in the same memory. Microprocessors are predominately used in devices like desktop computers, laptops, tablets, and smartphones. After booting up using a small program in read-only memory, they load application programs into dynamic RAM (DRAM), which contains both the program and data, and execute them from there. The RAM is often GBs in size\n",
    "\n"
   ]
  },
  {
   "cell_type": "markdown",
   "id": "bb573ea0",
   "metadata": {},
   "source": [
    "# Task 5\n",
    "### What is differance between Framework and Libraries and platform?\n"
   ]
  },
  {
   "cell_type": "markdown",
   "id": "97eae138",
   "metadata": {},
   "source": [
    "#### Framework: \n",
    "A framework enables a coding environment that contains low-level libraries to address conventional coding issues. The objective of a framework is to deliver faster development of an application. This includes everything we need to build large-scale applications, such as templates based on best practices\n",
    "\n",
    "\n",
    "#### Libraries: \n",
    "A library is a collection of reusable, compiled, and tested code that can facilitate the automation or augmentation of application functionalities. It’s designed to support both the code developer and code compiler during the build process and the running of the application. A library implements many functions, variables, and parameters.\n",
    "\n",
    "#### platform: \n",
    "A platform is a set of hardware and software components that provide a space for developers to build and run applications. Examples of platforms include WordPress and Microsoft Azure. A framework is a software-only app skeleton that includes preset tools, libraries, software development kits, and other components"
   ]
  },
  {
   "cell_type": "code",
   "execution_count": null,
   "id": "067b64e9",
   "metadata": {},
   "outputs": [],
   "source": []
  }
 ],
 "metadata": {
  "kernelspec": {
   "display_name": "Python 3 (ipykernel)",
   "language": "python",
   "name": "python3"
  },
  "language_info": {
   "codemirror_mode": {
    "name": "ipython",
    "version": 3
   },
   "file_extension": ".py",
   "mimetype": "text/x-python",
   "name": "python",
   "nbconvert_exporter": "python",
   "pygments_lexer": "ipython3",
   "version": "3.9.12"
  }
 },
 "nbformat": 4,
 "nbformat_minor": 5
}
