{
 "cells": [
  {
   "cell_type": "markdown",
   "id": "51f642da",
   "metadata": {},
   "source": [
    "Task1: Hiding and encrypting passwords in Python"
   ]
  },
  {
   "cell_type": "code",
   "execution_count": 2,
   "id": "30e50539",
   "metadata": {},
   "outputs": [],
   "source": [
    "import getpass"
   ]
  },
  {
   "cell_type": "code",
   "execution_count": 3,
   "id": "6b41fb79",
   "metadata": {},
   "outputs": [
    {
     "name": "stdout",
     "output_type": "stream",
     "text": [
      "Enter your password: 12345\n"
     ]
    }
   ],
   "source": [
    "pwd = input(\"Enter your password: \")"
   ]
  },
  {
   "cell_type": "code",
   "execution_count": 4,
   "id": "1c4db366",
   "metadata": {},
   "outputs": [
    {
     "data": {
      "text/plain": [
       "'12345'"
      ]
     },
     "execution_count": 4,
     "metadata": {},
     "output_type": "execute_result"
    }
   ],
   "source": [
    "pwd"
   ]
  },
  {
   "cell_type": "code",
   "execution_count": 5,
   "id": "2ea3b9ea",
   "metadata": {},
   "outputs": [
    {
     "name": "stdout",
     "output_type": "stream",
     "text": [
      "Enter your G-mail password: ········\n"
     ]
    }
   ],
   "source": [
    "hpwd = getpass.getpass(\"Enter your G-mail password: \")"
   ]
  },
  {
   "cell_type": "code",
   "execution_count": 6,
   "id": "14084a8d",
   "metadata": {},
   "outputs": [
    {
     "name": "stdout",
     "output_type": "stream",
     "text": [
      "12345pwd£\n"
     ]
    }
   ],
   "source": [
    "print (hpwd)"
   ]
  },
  {
   "cell_type": "markdown",
   "id": "4c5180bb",
   "metadata": {},
   "source": [
    "Task3: How to emulate a do while loop in Python"
   ]
  },
  {
   "cell_type": "code",
   "execution_count": 10,
   "id": "b6b6139f",
   "metadata": {},
   "outputs": [
    {
     "name": "stdout",
     "output_type": "stream",
     "text": [
      "90\n"
     ]
    }
   ],
   "source": [
    "# do while loop will run at least once. If the condition is met, then it will run again.\n",
    "#while loop, on the other hand, doesn't run at least once and may in fact never run. It runs when and only when the condition is met.\n",
    "\n",
    "#EX1:\n",
    "i = 90\n",
    "while True: # to modify the while loop a bit in order to get similar behavior to a do while loop in other languages.\n",
    "    print(i) #print the value of i  = 90\n",
    "    i += 1 #icreament i = i+1 = 91\n",
    "    if i > 9: #to break loop \n",
    "        break"
   ]
  },
  {
   "cell_type": "code",
   "execution_count": 12,
   "id": "9d55b9de",
   "metadata": {},
   "outputs": [
    {
     "name": "stdout",
     "output_type": "stream",
     "text": [
      "Enter the secret word: python\n"
     ]
    }
   ],
   "source": [
    "#EX2:\n",
    "secret_word = \"python\"\n",
    "counter = 0\n",
    "\n",
    "while True:\n",
    "    word = input(\"Enter the secret word: \").lower()\n",
    "    counter +=  1\n",
    "    if word == secret_word: # to modify the while loop if word = secret word = python :then We will break the loop \n",
    "        break\n",
    "    if word != secret_word and counter > 7: # if word != secret word != python :then We will continue in the loop 8 times\n",
    "        break"
   ]
  },
  {
   "cell_type": "markdown",
   "id": "334617ee",
   "metadata": {},
   "source": [
    "Task4: a python code that pass by 2 one time and pass by times 2 another time"
   ]
  },
  {
   "cell_type": "code",
   "execution_count": 29,
   "id": "8f4722c2",
   "metadata": {},
   "outputs": [
    {
     "name": "stdout",
     "output_type": "stream",
     "text": [
      "2\n",
      "10\n",
      "26\n",
      "50\n",
      "82\n",
      "122\n",
      "170\n",
      "226\n",
      "290\n",
      "362\n"
     ]
    }
   ],
   "source": [
    "for i in (j**2 for j in range(1,21,2)):\n",
    "    print(i)"
   ]
  },
  {
   "cell_type": "markdown",
   "id": "51b5934a",
   "metadata": {},
   "source": [
    "Task5: how to make infifnite for loop in python without using extra memory"
   ]
  },
  {
   "cell_type": "code",
   "execution_count": null,
   "id": "b4f25c65",
   "metadata": {},
   "outputs": [],
   "source": [
    "for i in iter(int, 1):\n",
    "    print(\"ODC\")"
   ]
  },
  {
   "cell_type": "markdown",
   "id": "8ad233b1",
   "metadata": {},
   "source": [
    "Task6: what is dependency injection"
   ]
  },
  {
   "cell_type": "markdown",
   "id": "337bc562",
   "metadata": {},
   "source": [
    "Dependency injection is basically providing the objects that an object needs (its dependencies) instead of having it construct them itself. It's a very useful technique for testing, since it allows dependencies to be mocked or stubbed out.\n",
    "\n",
    "Dependencies can be injected into objects by many means (such as constructor injection or setter injection). One can even use specialized dependency injection frameworks (e.g. Spring) to do that, but they certainly aren't required. You don't need those frameworks to have dependency injection. Instantiating and passing objects (dependencies) explicitly is just as good an injection as injection by framework."
   ]
  },
  {
   "cell_type": "markdown",
   "id": "6ab2af7e",
   "metadata": {},
   "source": []
  },
  {
   "cell_type": "code",
   "execution_count": null,
   "id": "22cfcc75",
   "metadata": {},
   "outputs": [],
   "source": []
  }
 ],
 "metadata": {
  "kernelspec": {
   "display_name": "Python 3 (ipykernel)",
   "language": "python",
   "name": "python3"
  },
  "language_info": {
   "codemirror_mode": {
    "name": "ipython",
    "version": 3
   },
   "file_extension": ".py",
   "mimetype": "text/x-python",
   "name": "python",
   "nbconvert_exporter": "python",
   "pygments_lexer": "ipython3",
   "version": "3.9.12"
  }
 },
 "nbformat": 4,
 "nbformat_minor": 5
}
