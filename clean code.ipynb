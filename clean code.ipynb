{
 "cells": [
  {
   "cell_type": "code",
   "execution_count": 11,
   "id": "1c5dd347",
   "metadata": {},
   "outputs": [
    {
     "name": "stdout",
     "output_type": "stream",
     "text": [
      "Abdullah\n",
      "Omar\n",
      "Ali\n",
      "Marwan\n"
     ]
    }
   ],
   "source": [
    "names  = [\"Marwan\", \"Ali\", \"Omar\", \"Abdullah\"]\n",
    "for i in range (len(names)-1,-1,-1):\n",
    "    print (names[i])"
   ]
  },
  {
   "cell_type": "code",
   "execution_count": 12,
   "id": "ed5dd3c7",
   "metadata": {},
   "outputs": [
    {
     "name": "stdout",
     "output_type": "stream",
     "text": [
      "Abdullah\n",
      "Omar\n",
      "Ali\n",
      "Marwan\n"
     ]
    }
   ],
   "source": [
    "for name in reversed(names):\n",
    "    print(name)"
   ]
  }
 ],
 "metadata": {
  "kernelspec": {
   "display_name": "Python 3 (ipykernel)",
   "language": "python",
   "name": "python3"
  },
  "language_info": {
   "codemirror_mode": {
    "name": "ipython",
    "version": 3
   },
   "file_extension": ".py",
   "mimetype": "text/x-python",
   "name": "python",
   "nbconvert_exporter": "python",
   "pygments_lexer": "ipython3",
   "version": "3.9.12"
  }
 },
 "nbformat": 4,
 "nbformat_minor": 5
}
